{
 "cells": [
  {
   "cell_type": "code",
   "execution_count": 1,
   "id": "f4c91764",
   "metadata": {},
   "outputs": [],
   "source": [
    "# Regression Assignment \n",
    "\n",
    "# Objective: \n",
    "# The objective of this assignment is to evaluate your understanding of regression techniques in supervised learning by applying them to a real-world dataset.\n",
    "\n",
    "# Dataset: \n",
    "# Use the California Housing dataset available in the sklearn library. This dataset contains information about various features of houses in California and their respective median prices. \n",
    "\n",
    "# Key Components to be Fulfilled: \n",
    "\n",
    "# 1. Loading and Preprocessing (2 marks): \n",
    "#     Load the California Housing dataset using the fetch_california_housing function from sklearn. \n",
    "#     Convert the dataset into a pandas DataFrame for easier handling. \n",
    "#     Handle missing values (if any) and perform necessary feature scaling (e.g., standardization). \n",
    "#     Explain the preprocessing steps you performed and justify why they are necessary for this dataset.\n",
    "\n",
    "# 2. Regression Algorithm Implementation (5 marks): \n",
    "# Implement the following regression algorithms: \n",
    "#     a.Linear Regression \n",
    "#     b.Decision Tree Regressor \n",
    "#     c.Random Forest Regressor \n",
    "#     d.Gradient Boosting Regressor \n",
    "#     e.Support Vector Regressor (SVR) \n",
    "\n",
    "# For each algorithm: \n",
    "#     Provide a brief explanation of how it works. \n",
    "#     Explain why it might be suitable for this dataset.\n",
    "    \n",
    "# 3. Model Evaluation and Comparison (2 marks): \n",
    "# Evaluate the performance of each algorithm using the following metrics: \n",
    "#     a.Mean Squared Error (MSE) \n",
    "#     b.Mean Absolute Error (MAE) \n",
    "#     c.R-squared Score (R²) \n",
    "\n",
    "# Compare the results of all models and identify: \n",
    "#     The best-performing algorithm with justification. \n",
    "#     The worst-performing algorithm with reasoning.\n",
    "    \n"
   ]
  },
  {
   "cell_type": "markdown",
   "id": "2887f2c7",
   "metadata": {},
   "source": [
    "# 1.Loading and Preprocessing"
   ]
  },
  {
   "cell_type": "code",
   "execution_count": 2,
   "id": "fcca34e3",
   "metadata": {},
   "outputs": [],
   "source": [
    "import warnings\n",
    "warnings.filterwarnings(\"ignore\")\n",
    "\n",
    "import pandas as pd\n",
    "import numpy as np\n",
    "import seaborn as sns\n",
    "import matplotlib.pyplot as plt\n",
    "from sklearn.model_selection import train_test_split\n",
    "from sklearn.preprocessing import StandardScaler, MinMaxScaler, LabelEncoder\n",
    "from sklearn.tree import DecisionTreeRegressor\n",
    "from sklearn.model_selection import train_test_split\n",
    "from sklearn.datasets import fetch_california_housing\n",
    "from sklearn.linear_model import LinearRegression\n",
    "from sklearn.metrics import mean_squared_error, r2_score\n",
    "from sklearn.ensemble import RandomForestRegressor"
   ]
  },
  {
   "cell_type": "code",
   "execution_count": 3,
   "id": "9cea3dd8",
   "metadata": {},
   "outputs": [],
   "source": [
    "# Load the California Housing dataset using the fetch_california_housing function from sklearn. "
   ]
  },
  {
   "cell_type": "code",
   "execution_count": 4,
   "id": "84eb7aa7",
   "metadata": {},
   "outputs": [],
   "source": [
    "california = fetch_california_housing()"
   ]
  },
  {
   "cell_type": "code",
   "execution_count": 5,
   "id": "ad7b1dd0",
   "metadata": {},
   "outputs": [
    {
     "name": "stdout",
     "output_type": "stream",
     "text": [
      "   MedInc  HouseAge  AveRooms  AveBedrms  Population  AveOccup  Latitude  \\\n",
      "0  8.3252      41.0  6.984127   1.023810       322.0  2.555556     37.88   \n",
      "1  8.3014      21.0  6.238137   0.971880      2401.0  2.109842     37.86   \n",
      "2  7.2574      52.0  8.288136   1.073446       496.0  2.802260     37.85   \n",
      "3  5.6431      52.0  5.817352   1.073059       558.0  2.547945     37.85   \n",
      "4  3.8462      52.0  6.281853   1.081081       565.0  2.181467     37.85   \n",
      "\n",
      "   Longitude  Target  \n",
      "0    -122.23   4.526  \n",
      "1    -122.22   3.585  \n",
      "2    -122.24   3.521  \n",
      "3    -122.25   3.413  \n",
      "4    -122.25   3.422  \n"
     ]
    }
   ],
   "source": [
    "# Convert the dataset into a pandas DataFrame for easier handling.\n",
    "df = pd.DataFrame(california.data, columns=california.feature_names)\n",
    "df['Target'] = california.target  # Adding the target column (Median House Value)\n",
    "print(df.head())"
   ]
  },
  {
   "cell_type": "code",
   "execution_count": 6,
   "id": "2c0c8f18",
   "metadata": {},
   "outputs": [
    {
     "data": {
      "text/plain": [
       "MedInc        0\n",
       "HouseAge      0\n",
       "AveRooms      0\n",
       "AveBedrms     0\n",
       "Population    0\n",
       "AveOccup      0\n",
       "Latitude      0\n",
       "Longitude     0\n",
       "Target        0\n",
       "dtype: int64"
      ]
     },
     "execution_count": 6,
     "metadata": {},
     "output_type": "execute_result"
    }
   ],
   "source": [
    "# Find missing values\n",
    "df.isnull().sum()"
   ]
  },
  {
   "cell_type": "code",
   "execution_count": 7,
   "id": "70c218b5",
   "metadata": {},
   "outputs": [
    {
     "data": {
      "text/plain": [
       "(20640, 9)"
      ]
     },
     "execution_count": 7,
     "metadata": {},
     "output_type": "execute_result"
    }
   ],
   "source": [
    "# Rows and columns distribution\n",
    "df.shape"
   ]
  },
  {
   "cell_type": "code",
   "execution_count": 8,
   "id": "62dd0bc5",
   "metadata": {},
   "outputs": [
    {
     "name": "stdout",
     "output_type": "stream",
     "text": [
      "<class 'pandas.core.frame.DataFrame'>\n",
      "RangeIndex: 20640 entries, 0 to 20639\n",
      "Data columns (total 9 columns):\n",
      " #   Column      Non-Null Count  Dtype  \n",
      "---  ------      --------------  -----  \n",
      " 0   MedInc      20640 non-null  float64\n",
      " 1   HouseAge    20640 non-null  float64\n",
      " 2   AveRooms    20640 non-null  float64\n",
      " 3   AveBedrms   20640 non-null  float64\n",
      " 4   Population  20640 non-null  float64\n",
      " 5   AveOccup    20640 non-null  float64\n",
      " 6   Latitude    20640 non-null  float64\n",
      " 7   Longitude   20640 non-null  float64\n",
      " 8   Target      20640 non-null  float64\n",
      "dtypes: float64(9)\n",
      "memory usage: 1.4 MB\n"
     ]
    }
   ],
   "source": [
    "df.info()"
   ]
  },
  {
   "cell_type": "code",
   "execution_count": 9,
   "id": "9661ed5c",
   "metadata": {},
   "outputs": [
    {
     "data": {
      "text/plain": [
       "Index(['MedInc', 'HouseAge', 'AveRooms', 'AveBedrms', 'Population', 'AveOccup',\n",
       "       'Latitude', 'Longitude', 'Target'],\n",
       "      dtype='object')"
      ]
     },
     "execution_count": 9,
     "metadata": {},
     "output_type": "execute_result"
    }
   ],
   "source": [
    "df.columns"
   ]
  },
  {
   "cell_type": "code",
   "execution_count": 10,
   "id": "52afb06e",
   "metadata": {},
   "outputs": [
    {
     "data": {
      "text/plain": [
       "0"
      ]
     },
     "execution_count": 10,
     "metadata": {},
     "output_type": "execute_result"
    }
   ],
   "source": [
    "# Find duplicates\n",
    "df.duplicated().sum()"
   ]
  },
  {
   "cell_type": "code",
   "execution_count": 11,
   "id": "9a54d35e",
   "metadata": {},
   "outputs": [
    {
     "name": "stdout",
     "output_type": "stream",
     "text": [
      "\n",
      "Skewness of dataset features:\n",
      "MedInc         1.646657\n",
      "HouseAge       0.060331\n",
      "AveRooms      20.697869\n",
      "AveBedrms     31.316956\n",
      "Population     4.935858\n",
      "AveOccup      97.639561\n",
      "Latitude       0.465953\n",
      "Longitude     -0.297801\n",
      "Target         0.977763\n",
      "dtype: float64\n"
     ]
    }
   ],
   "source": [
    "# Checking for Skewness in Features\n",
    "print(\"\\nSkewness of dataset features:\")\n",
    "print(df.skew())\n"
   ]
  },
  {
   "cell_type": "markdown",
   "id": "79a51fc8",
   "metadata": {},
   "source": [
    "OBSERVATION:\n",
    "   1. Highly Positively Skewed Features (Extreme Right-Skewness):\n",
    "    AveRooms, AveBedrms, AveOccup ,a few outliers have significantly higher values.\n",
    "   2. Moderately Positively Skewed Features (Slight Right-Skewness):\n",
    "    MedInc, Population, HouseAge , meaning most values are low, but there are some high-income areas, older properties, and densely populated regions.\n",
    "   3. Slight Left-Skewness:\n",
    "    Longitude (-0.30) → A small negative skew means most longitude values are concentrated in a certain range, with fewer data points towards lower values.\n",
    "   4. Target Variable (Target) - Slight Right Skew,eaning most houses are in the lower price range, with fewer expensive properties.\n"
   ]
  },
  {
   "cell_type": "code",
   "execution_count": 12,
   "id": "88736825",
   "metadata": {},
   "outputs": [
    {
     "name": "stdout",
     "output_type": "stream",
     "text": [
      "     MedInc  HouseAge  AveRooms  AveBedrms  Population  AveOccup  Latitude  \\\n",
      "0  2.232720      41.0  2.077455   0.704982    5.777652  1.268511     37.88   \n",
      "1  2.230165      21.0  1.979364   0.678988    7.784057  1.134572     37.86   \n",
      "2  2.111110      52.0  2.228738   0.729212    6.208590  1.335596     37.85   \n",
      "3  1.893579      52.0  1.919471   0.729025    6.326149  1.266369     37.85   \n",
      "4  1.578195      52.0  1.985385   0.732888    6.338594  1.157342     37.85   \n",
      "\n",
      "   Longitude  Target  \n",
      "0    -122.23   4.526  \n",
      "1    -122.22   3.585  \n",
      "2    -122.24   3.521  \n",
      "3    -122.25   3.413  \n",
      "4    -122.25   3.422  \n"
     ]
    }
   ],
   "source": [
    "# Apply log transformation to highly skewed features\n",
    "skewed= ['AveRooms', 'AveBedrms', 'AveOccup', 'Population', 'MedInc']  # Example selection\n",
    "df[skewed] = df[skewed].apply(lambda x: np.log1p(x))  # log(1 + x) transformation\n",
    "print(df.head())\n"
   ]
  },
  {
   "cell_type": "code",
   "execution_count": 13,
   "id": "e5af32e4",
   "metadata": {},
   "outputs": [
    {
     "data": {
      "text/plain": [
       "MedInc        0.226083\n",
       "HouseAge      0.060331\n",
       "AveRooms      1.390761\n",
       "AveBedrms     8.988786\n",
       "Population   -1.044087\n",
       "AveOccup      3.879679\n",
       "Latitude      0.465953\n",
       "Longitude    -0.297801\n",
       "Target        0.977763\n",
       "dtype: float64"
      ]
     },
     "execution_count": 13,
     "metadata": {},
     "output_type": "execute_result"
    }
   ],
   "source": [
    "df.skew()"
   ]
  },
  {
   "cell_type": "code",
   "execution_count": 14,
   "id": "c2bfa2c3",
   "metadata": {},
   "outputs": [
    {
     "name": "stdout",
     "output_type": "stream",
     "text": [
      "     MedInc  HouseAge  AveRooms  AveBedrms  Population  AveOccup  Latitude  \\\n",
      "0  2.232720      41.0  1.124103   0.533554    5.777652  0.819124     37.88   \n",
      "1  2.230165      21.0  1.091710   0.518191    7.784057  0.758266     37.86   \n",
      "2  2.111110      52.0  1.172091   0.547666    6.208590  0.848267     37.85   \n",
      "3  1.893579      52.0  1.071402   0.547558    6.326149  0.818179     37.85   \n",
      "4  1.578195      52.0  1.093729   0.549789    6.338594  0.768877     37.85   \n",
      "\n",
      "   Longitude  Target  \n",
      "0    -122.23   4.526  \n",
      "1    -122.22   3.585  \n",
      "2    -122.24   3.521  \n",
      "3    -122.25   3.413  \n",
      "4    -122.25   3.422  \n"
     ]
    }
   ],
   "source": [
    "skewed2= ['AveRooms', 'AveBedrms', 'AveOccup']  # Example selection\n",
    "df[skewed2] = df[skewed2].apply(lambda x: np.log1p(x))  # log(1 + x) transformation\n",
    "print(df.head())"
   ]
  },
  {
   "cell_type": "code",
   "execution_count": 15,
   "id": "72692ece",
   "metadata": {},
   "outputs": [
    {
     "data": {
      "text/plain": [
       "MedInc        0.226083\n",
       "HouseAge      0.060331\n",
       "AveRooms      0.335100\n",
       "AveBedrms     6.436582\n",
       "Population   -1.044087\n",
       "AveOccup      0.960154\n",
       "Latitude      0.465953\n",
       "Longitude    -0.297801\n",
       "Target        0.977763\n",
       "dtype: float64"
      ]
     },
     "execution_count": 15,
     "metadata": {},
     "output_type": "execute_result"
    }
   ],
   "source": [
    "df.skew()"
   ]
  },
  {
   "cell_type": "code",
   "execution_count": 16,
   "id": "b895246e",
   "metadata": {},
   "outputs": [],
   "source": [
    "# Splitting features and target\n",
    "#  define the features (x) and target (y)\n",
    "X= df[['MedInc', 'HouseAge', 'AveRooms', 'AveBedrms', 'Population', 'AveOccup', 'Longitude']]\n",
    "y=df['Target']\n"
   ]
  },
  {
   "cell_type": "code",
   "execution_count": 18,
   "id": "b7c1e204",
   "metadata": {},
   "outputs": [
    {
     "name": "stdout",
     "output_type": "stream",
     "text": [
      "\n",
      "Training Data (Features):\n",
      "         MedInc  HouseAge  AveRooms  AveBedrms  Population  AveOccup  \\\n",
      "14196  1.449175      33.0  1.027724   0.528480    7.741099  0.934453   \n",
      "8267   1.571217      49.0  0.993225   0.538504    7.181592  0.696772   \n",
      "17445  1.640219       4.0  1.062636   0.522168    6.820016  0.839231   \n",
      "14265  1.079260      36.0  0.959351   0.536439    7.257708  0.958703   \n",
      "2271   1.516050      43.0  1.093110   0.564232    6.774224  0.785691   \n",
      "...         ...       ...       ...        ...         ...       ...   \n",
      "11284  1.997418      35.0  1.086599   0.504154    6.490724  0.873102   \n",
      "11964  1.398717      33.0  1.119356   0.598591    7.469654  0.951696   \n",
      "5390   1.369758      36.0  0.958115   0.549405    7.471363  0.902616   \n",
      "860    1.904969      15.0  1.098896   0.546138    7.483244  0.887910   \n",
      "15795  1.274105      52.0  0.909141   0.543551    7.870930  0.758093   \n",
      "\n",
      "       Longitude  \n",
      "14196    -117.03  \n",
      "8267     -118.16  \n",
      "17445    -120.48  \n",
      "14265    -117.11  \n",
      "2271     -119.80  \n",
      "...          ...  \n",
      "11284    -117.96  \n",
      "11964    -117.43  \n",
      "5390     -118.38  \n",
      "860      -121.96  \n",
      "15795    -122.42  \n",
      "\n",
      "[16512 rows x 7 columns]\n",
      "\n",
      "Testing Data (Features):\n",
      "         MedInc  HouseAge  AveRooms  AveBedrms  Population  AveOccup  \\\n",
      "20046  0.986264      25.0  0.973486   0.533112    7.239215  0.949578   \n",
      "3024   1.261666      30.0  1.029013   0.579696    7.356280  0.834150   \n",
      "15663  1.499645      52.0  0.957378   0.577746    7.178545  0.619932   \n",
      "20484  1.907704      17.0  1.088231   0.532507    7.441907  0.912947   \n",
      "9814   1.552868      34.0  1.054564   0.534778    6.969791  0.810076   \n",
      "...         ...       ...       ...        ...         ...       ...   \n",
      "15362  1.723659      16.0  1.124838   0.545687    7.209340  0.868581   \n",
      "16623  1.315496      28.0  1.086735   0.595490    7.409136  0.791225   \n",
      "18086  2.325305      25.0  1.134211   0.510656    7.368970  0.846939   \n",
      "2144   1.331046      36.0  1.043384   0.521571    7.113142  0.823194   \n",
      "3665   1.515589      17.0  0.958278   0.536347    7.421776  0.937624   \n",
      "\n",
      "       Longitude  \n",
      "20046    -119.01  \n",
      "3024     -119.46  \n",
      "15663    -122.44  \n",
      "20484    -118.72  \n",
      "9814     -121.93  \n",
      "...          ...  \n",
      "15362    -117.22  \n",
      "16623    -120.83  \n",
      "18086    -122.05  \n",
      "2144     -119.76  \n",
      "3665     -118.37  \n",
      "\n",
      "[4128 rows x 7 columns]\n"
     ]
    }
   ],
   "source": [
    "# Split the dataset into training and testing sets\n",
    "x_train, x_test, y_train, y_test = train_test_split(X, y, test_size=0.2, random_state=42)\n",
    "\n",
    "print(\"\\nTraining Data (Features):\")\n",
    "print(x_train)\n",
    "print(\"\\nTesting Data (Features):\")\n",
    "print(x_test)\n",
    "\n",
    "#This step is crucial to evaluate the model’s performance on unseen data and prevent overfitting."
   ]
  },
  {
   "cell_type": "code",
   "execution_count": 25,
   "id": "ff3fba0f",
   "metadata": {},
   "outputs": [],
   "source": []
  },
  {
   "cell_type": "code",
   "execution_count": 20,
   "id": "c534684d",
   "metadata": {},
   "outputs": [
    {
     "data": {
      "text/plain": [
       "(16512, 7)"
      ]
     },
     "execution_count": 20,
     "metadata": {},
     "output_type": "execute_result"
    }
   ],
   "source": [
    "x_train\n",
    "x_train.shape"
   ]
  },
  {
   "cell_type": "code",
   "execution_count": 21,
   "id": "b456f9e8",
   "metadata": {},
   "outputs": [
    {
     "data": {
      "text/plain": [
       "14196    1.030\n",
       "8267     3.821\n",
       "17445    1.726\n",
       "14265    0.934\n",
       "2271     0.965\n",
       "         ...  \n",
       "11284    2.292\n",
       "11964    0.978\n",
       "5390     2.221\n",
       "860      2.835\n",
       "15795    3.250\n",
       "Name: Target, Length: 16512, dtype: float64"
      ]
     },
     "execution_count": 21,
     "metadata": {},
     "output_type": "execute_result"
    }
   ],
   "source": [
    "y_train"
   ]
  },
  {
   "cell_type": "code",
   "execution_count": 23,
   "id": "601f2425",
   "metadata": {},
   "outputs": [
    {
     "data": {
      "text/plain": [
       "(16512,)"
      ]
     },
     "execution_count": 23,
     "metadata": {},
     "output_type": "execute_result"
    }
   ],
   "source": [
    "y_train.shape"
   ]
  },
  {
   "cell_type": "code",
   "execution_count": 24,
   "id": "336477dc",
   "metadata": {},
   "outputs": [
    {
     "data": {
      "text/html": [
       "<div>\n",
       "<style scoped>\n",
       "    .dataframe tbody tr th:only-of-type {\n",
       "        vertical-align: middle;\n",
       "    }\n",
       "\n",
       "    .dataframe tbody tr th {\n",
       "        vertical-align: top;\n",
       "    }\n",
       "\n",
       "    .dataframe thead th {\n",
       "        text-align: right;\n",
       "    }\n",
       "</style>\n",
       "<table border=\"1\" class=\"dataframe\">\n",
       "  <thead>\n",
       "    <tr style=\"text-align: right;\">\n",
       "      <th></th>\n",
       "      <th>MedInc</th>\n",
       "      <th>HouseAge</th>\n",
       "      <th>AveRooms</th>\n",
       "      <th>AveBedrms</th>\n",
       "      <th>Population</th>\n",
       "      <th>AveOccup</th>\n",
       "      <th>Longitude</th>\n",
       "    </tr>\n",
       "  </thead>\n",
       "  <tbody>\n",
       "    <tr>\n",
       "      <th>20046</th>\n",
       "      <td>0.986264</td>\n",
       "      <td>25.0</td>\n",
       "      <td>0.973486</td>\n",
       "      <td>0.533112</td>\n",
       "      <td>7.239215</td>\n",
       "      <td>0.949578</td>\n",
       "      <td>-119.01</td>\n",
       "    </tr>\n",
       "    <tr>\n",
       "      <th>3024</th>\n",
       "      <td>1.261666</td>\n",
       "      <td>30.0</td>\n",
       "      <td>1.029013</td>\n",
       "      <td>0.579696</td>\n",
       "      <td>7.356280</td>\n",
       "      <td>0.834150</td>\n",
       "      <td>-119.46</td>\n",
       "    </tr>\n",
       "    <tr>\n",
       "      <th>15663</th>\n",
       "      <td>1.499645</td>\n",
       "      <td>52.0</td>\n",
       "      <td>0.957378</td>\n",
       "      <td>0.577746</td>\n",
       "      <td>7.178545</td>\n",
       "      <td>0.619932</td>\n",
       "      <td>-122.44</td>\n",
       "    </tr>\n",
       "    <tr>\n",
       "      <th>20484</th>\n",
       "      <td>1.907704</td>\n",
       "      <td>17.0</td>\n",
       "      <td>1.088231</td>\n",
       "      <td>0.532507</td>\n",
       "      <td>7.441907</td>\n",
       "      <td>0.912947</td>\n",
       "      <td>-118.72</td>\n",
       "    </tr>\n",
       "    <tr>\n",
       "      <th>9814</th>\n",
       "      <td>1.552868</td>\n",
       "      <td>34.0</td>\n",
       "      <td>1.054564</td>\n",
       "      <td>0.534778</td>\n",
       "      <td>6.969791</td>\n",
       "      <td>0.810076</td>\n",
       "      <td>-121.93</td>\n",
       "    </tr>\n",
       "    <tr>\n",
       "      <th>...</th>\n",
       "      <td>...</td>\n",
       "      <td>...</td>\n",
       "      <td>...</td>\n",
       "      <td>...</td>\n",
       "      <td>...</td>\n",
       "      <td>...</td>\n",
       "      <td>...</td>\n",
       "    </tr>\n",
       "    <tr>\n",
       "      <th>15362</th>\n",
       "      <td>1.723659</td>\n",
       "      <td>16.0</td>\n",
       "      <td>1.124838</td>\n",
       "      <td>0.545687</td>\n",
       "      <td>7.209340</td>\n",
       "      <td>0.868581</td>\n",
       "      <td>-117.22</td>\n",
       "    </tr>\n",
       "    <tr>\n",
       "      <th>16623</th>\n",
       "      <td>1.315496</td>\n",
       "      <td>28.0</td>\n",
       "      <td>1.086735</td>\n",
       "      <td>0.595490</td>\n",
       "      <td>7.409136</td>\n",
       "      <td>0.791225</td>\n",
       "      <td>-120.83</td>\n",
       "    </tr>\n",
       "    <tr>\n",
       "      <th>18086</th>\n",
       "      <td>2.325305</td>\n",
       "      <td>25.0</td>\n",
       "      <td>1.134211</td>\n",
       "      <td>0.510656</td>\n",
       "      <td>7.368970</td>\n",
       "      <td>0.846939</td>\n",
       "      <td>-122.05</td>\n",
       "    </tr>\n",
       "    <tr>\n",
       "      <th>2144</th>\n",
       "      <td>1.331046</td>\n",
       "      <td>36.0</td>\n",
       "      <td>1.043384</td>\n",
       "      <td>0.521571</td>\n",
       "      <td>7.113142</td>\n",
       "      <td>0.823194</td>\n",
       "      <td>-119.76</td>\n",
       "    </tr>\n",
       "    <tr>\n",
       "      <th>3665</th>\n",
       "      <td>1.515589</td>\n",
       "      <td>17.0</td>\n",
       "      <td>0.958278</td>\n",
       "      <td>0.536347</td>\n",
       "      <td>7.421776</td>\n",
       "      <td>0.937624</td>\n",
       "      <td>-118.37</td>\n",
       "    </tr>\n",
       "  </tbody>\n",
       "</table>\n",
       "<p>4128 rows × 7 columns</p>\n",
       "</div>"
      ],
      "text/plain": [
       "         MedInc  HouseAge  AveRooms  AveBedrms  Population  AveOccup  \\\n",
       "20046  0.986264      25.0  0.973486   0.533112    7.239215  0.949578   \n",
       "3024   1.261666      30.0  1.029013   0.579696    7.356280  0.834150   \n",
       "15663  1.499645      52.0  0.957378   0.577746    7.178545  0.619932   \n",
       "20484  1.907704      17.0  1.088231   0.532507    7.441907  0.912947   \n",
       "9814   1.552868      34.0  1.054564   0.534778    6.969791  0.810076   \n",
       "...         ...       ...       ...        ...         ...       ...   \n",
       "15362  1.723659      16.0  1.124838   0.545687    7.209340  0.868581   \n",
       "16623  1.315496      28.0  1.086735   0.595490    7.409136  0.791225   \n",
       "18086  2.325305      25.0  1.134211   0.510656    7.368970  0.846939   \n",
       "2144   1.331046      36.0  1.043384   0.521571    7.113142  0.823194   \n",
       "3665   1.515589      17.0  0.958278   0.536347    7.421776  0.937624   \n",
       "\n",
       "       Longitude  \n",
       "20046    -119.01  \n",
       "3024     -119.46  \n",
       "15663    -122.44  \n",
       "20484    -118.72  \n",
       "9814     -121.93  \n",
       "...          ...  \n",
       "15362    -117.22  \n",
       "16623    -120.83  \n",
       "18086    -122.05  \n",
       "2144     -119.76  \n",
       "3665     -118.37  \n",
       "\n",
       "[4128 rows x 7 columns]"
      ]
     },
     "execution_count": 24,
     "metadata": {},
     "output_type": "execute_result"
    }
   ],
   "source": [
    "x_test"
   ]
  },
  {
   "cell_type": "code",
   "execution_count": 25,
   "id": "a4fe700a",
   "metadata": {},
   "outputs": [
    {
     "data": {
      "text/plain": [
       "20046    0.47700\n",
       "3024     0.45800\n",
       "15663    5.00001\n",
       "20484    2.18600\n",
       "9814     2.78000\n",
       "          ...   \n",
       "15362    2.63300\n",
       "16623    2.66800\n",
       "18086    5.00001\n",
       "2144     0.72300\n",
       "3665     1.51500\n",
       "Name: Target, Length: 4128, dtype: float64"
      ]
     },
     "execution_count": 25,
     "metadata": {},
     "output_type": "execute_result"
    }
   ],
   "source": [
    "y_test"
   ]
  },
  {
   "cell_type": "code",
   "execution_count": 26,
   "id": "cddb7059",
   "metadata": {},
   "outputs": [
    {
     "name": "stdout",
     "output_type": "stream",
     "text": [
      "     MedInc  HouseAge  AveRooms  AveBedrms  Population  AveOccup  Latitude  \\\n",
      "0  2.232720      41.0  1.124103   0.533554    5.777652  0.819124     37.88   \n",
      "1  2.230165      21.0  1.091710   0.518191    7.784057  0.758266     37.86   \n",
      "2  2.111110      52.0  1.172091   0.547666    6.208590  0.848267     37.85   \n",
      "3  1.893579      52.0  1.071402   0.547558    6.326149  0.818179     37.85   \n",
      "4  1.578195      52.0  1.093729   0.549789    6.338594  0.768877     37.85   \n",
      "\n",
      "   Longitude  Target  \n",
      "0    -122.23   4.526  \n",
      "1    -122.22   3.585  \n",
      "2    -122.24   3.521  \n",
      "3    -122.25   3.413  \n",
      "4    -122.25   3.422  \n"
     ]
    }
   ],
   "source": [
    "# Display the first few rows of the scaled DataFrame\n",
    "print(df.head())"
   ]
  },
  {
   "cell_type": "code",
   "execution_count": null,
   "id": "9ccf35b6",
   "metadata": {},
   "outputs": [],
   "source": [
    "# Feature Scaling"
   ]
  },
  {
   "cell_type": "code",
   "execution_count": 28,
   "id": "bd505bfd",
   "metadata": {},
   "outputs": [],
   "source": [
    "#Standardization ensures all features have a mean of 0 and a standard deviation of 1, making them comparable.\n",
    "# Scaling using StandardScaler\n",
    "from sklearn.preprocessing import StandardScaler\n",
    "\n",
    "scaler = StandardScaler()\n",
    "scaler.fit(x_train)\n",
    "x_train_scaled = scaler.transform(x_train)"
   ]
  },
  {
   "cell_type": "code",
   "execution_count": 29,
   "id": "d8698987",
   "metadata": {},
   "outputs": [
    {
     "data": {
      "text/plain": [
       "array([[-0.19385452,  0.34849025, -0.11718269, ...,  0.97210868,\n",
       "         1.00261049,  1.27258656],\n",
       "       [ 0.14566783,  1.61811813, -0.54929563, ...,  0.21062259,\n",
       "        -1.86974584,  0.70916212],\n",
       "       [ 0.3376347 , -1.95271028,  0.32009965, ..., -0.28147975,\n",
       "        -0.14813056, -0.44760309],\n",
       "       ...,\n",
       "       [-0.41479424,  0.58654547, -0.98905098, ...,  0.60499949,\n",
       "         0.61786455,  0.59946887],\n",
       "       [ 1.07417538, -1.07984112,  0.77426108, ...,  0.62116991,\n",
       "         0.44014876, -1.18553953],\n",
       "       [-0.6809043 ,  1.85617335, -1.60245664, ...,  1.14880727,\n",
       "        -1.12867887, -1.41489815]])"
      ]
     },
     "execution_count": 29,
     "metadata": {},
     "output_type": "execute_result"
    }
   ],
   "source": [
    "x_train_scaled"
   ]
  },
  {
   "cell_type": "code",
   "execution_count": 30,
   "id": "01ec0b3d",
   "metadata": {},
   "outputs": [
    {
     "name": "stdout",
     "output_type": "stream",
     "text": [
      "7\n"
     ]
    },
    {
     "data": {
      "text/plain": [
       "(16512, 7)"
      ]
     },
     "execution_count": 30,
     "metadata": {},
     "output_type": "execute_result"
    }
   ],
   "source": [
    "print(len(x_train_scaled[0]))\n",
    "x_train_scaled.shape\n",
    "x_train.shape"
   ]
  },
  {
   "cell_type": "code",
   "execution_count": 31,
   "id": "a10feb2b",
   "metadata": {},
   "outputs": [],
   "source": [
    "from sklearn.preprocessing import StandardScaler\n",
    "\n",
    "y_train_df = pd.DataFrame(y_train) #converting to data frame from series\n",
    "scaler = StandardScaler()\n",
    "scaler.fit(y_train_df)\n",
    "y_train_scaled = scaler.transform(y_train_df)"
   ]
  },
  {
   "cell_type": "code",
   "execution_count": 32,
   "id": "d6c91365",
   "metadata": {},
   "outputs": [
    {
     "data": {
      "text/plain": [
       "array([[-0.90118909],\n",
       "       [ 1.5127714 ],\n",
       "       [-0.29921255],\n",
       "       ...,\n",
       "       [ 0.12891731],\n",
       "       [ 0.65997132],\n",
       "       [ 1.01890847]])"
      ]
     },
     "execution_count": 32,
     "metadata": {},
     "output_type": "execute_result"
    }
   ],
   "source": [
    "y_train_scaled"
   ]
  },
  {
   "cell_type": "code",
   "execution_count": 33,
   "id": "c5fdbbc4",
   "metadata": {},
   "outputs": [
    {
     "data": {
      "text/plain": [
       "20046    0.47700\n",
       "3024     0.45800\n",
       "15663    5.00001\n",
       "20484    2.18600\n",
       "9814     2.78000\n",
       "          ...   \n",
       "15362    2.63300\n",
       "16623    2.66800\n",
       "18086    5.00001\n",
       "2144     0.72300\n",
       "3665     1.51500\n",
       "Name: Target, Length: 4128, dtype: float64"
      ]
     },
     "execution_count": 33,
     "metadata": {},
     "output_type": "execute_result"
    }
   ],
   "source": [
    "y_test"
   ]
  },
  {
   "cell_type": "markdown",
   "id": "2e5d50ac",
   "metadata": {},
   "source": [
    "OBSERVATION:\n",
    "\n",
    "* Preprocessing Steps\n",
    "\n",
    "1.Load Dataset\n",
    "California Housing dataset is loaded and converted into a Pandas DataFrame.\n",
    "\n",
    "2.Check for Missing Values:\n",
    "Verified that no missing values exist.\n",
    "\n",
    "3.Check for Skewness:\n",
    "Identified features with skewness greater than 1 (highly skewed).\n",
    "\n",
    "4.Apply Log Transformation:\n",
    "Used log(1 + x) transformation to reduce skewness for better model performance.\n",
    "\n",
    "5.Split Data into Features and Target:\n",
    "Separated predictors (X) and target variable (y).\n",
    "\n",
    "6.Train-Test Split:\n",
    "80% training, 20% testing to evaluate model performance.\n",
    "\n",
    "7.Feature Scaling (Standardization)\n"
   ]
  },
  {
   "cell_type": "markdown",
   "id": "5b945fca",
   "metadata": {},
   "source": [
    "# 2. Regression Algorithm Implementation \n"
   ]
  },
  {
   "cell_type": "markdown",
   "id": "dc51df28",
   "metadata": {},
   "source": [
    "## a. Linear Regression "
   ]
  },
  {
   "cell_type": "markdown",
   "id": "20a2b0ce",
   "metadata": {},
   "source": [
    "Linear regression models the relationship between a dependent variable and one or more independent variables by fitting a straight line."
   ]
  },
  {
   "cell_type": "code",
   "execution_count": 32,
   "id": "4962eb15",
   "metadata": {},
   "outputs": [],
   "source": [
    "# Model training using Linear regression"
   ]
  },
  {
   "cell_type": "code",
   "execution_count": 69,
   "id": "fc87aae1",
   "metadata": {},
   "outputs": [
    {
     "name": "stdout",
     "output_type": "stream",
     "text": [
      "Linear Regression\n",
      "Mean Squared Error (MSE): 0.5718557153138697\n",
      "R^2 Score: 0.5636051608242703\n"
     ]
    }
   ],
   "source": [
    "print(\"Linear Regression\")\n",
    "model = LinearRegression()\n",
    "model.fit(x_train_scaled, y_train)\n",
    "y_pred = model.predict(x_test_scaled)\n",
    "mse_lr = mean_squared_error(y_test, y_pred)\n",
    "r2_lr = r2_score(y_test, y_pred)\n",
    "print(\"Mean Squared Error (MSE):\", mse_lr)\n",
    "print(\"R^2 Score:\", r2_lr)\n",
    "\n"
   ]
  },
  {
   "cell_type": "markdown",
   "id": "f34b58c6",
   "metadata": {},
   "source": [
    " A higher MSE means larger errors (i.e.,model's predictions are far from actual values).\n",
    " A negative R² means the model is worse than a simple mean-based prediction."
   ]
  },
  {
   "cell_type": "markdown",
   "id": "7cf799c0",
   "metadata": {},
   "source": [
    "## b. Decision Tree Regressor"
   ]
  },
  {
   "cell_type": "markdown",
   "id": "f1b1c15b",
   "metadata": {},
   "source": [
    "A decision tree splits data into branches based on feature values to create a model that predicts the target variable"
   ]
  },
  {
   "cell_type": "code",
   "execution_count": 70,
   "id": "68bf4e31",
   "metadata": {},
   "outputs": [
    {
     "name": "stdout",
     "output_type": "stream",
     "text": [
      "Decision Tree Regressor\n",
      "Mean Squared Error (MSE): 0.7629320738954458\n",
      "R^2 Score: 0.41779086791696884\n"
     ]
    }
   ],
   "source": [
    "print(\"Decision Tree Regressor\")\n",
    "decision_tree_model = DecisionTreeRegressor()\n",
    "decision_tree_model.fit(x_train_scaled, y_train)\n",
    "y_pred_tree = decision_tree_model.predict(x_test_scaled)\n",
    "mse_dt = mean_squared_error(y_test, y_pred_tree)\n",
    "r2_dt = r2_score(y_test, y_pred_tree)\n",
    "print(\"Mean Squared Error (MSE):\", mse_dt)\n",
    "print(\"R^2 Score:\", r2_dt)\n"
   ]
  },
  {
   "cell_type": "markdown",
   "id": "2a0a4c63",
   "metadata": {},
   "source": [
    "Lower MSE is better, so we need improvement. R² also needs improvement"
   ]
  },
  {
   "cell_type": "markdown",
   "id": "2774d36a",
   "metadata": {},
   "source": [
    "## c. Random Forest Regressor"
   ]
  },
  {
   "cell_type": "markdown",
   "id": "fd184013",
   "metadata": {},
   "source": [
    "An ensemble method that combines multiple decision trees to improve accuracy and reduce overfitting"
   ]
  },
  {
   "cell_type": "code",
   "execution_count": 72,
   "id": "6771b670",
   "metadata": {},
   "outputs": [
    {
     "name": "stdout",
     "output_type": "stream",
     "text": [
      "Random Forest Regressor\n",
      "Mean Squared Error (MSE): 0.3748693407113\n",
      "R^2 Score: 0.7139295083169175\n"
     ]
    }
   ],
   "source": [
    "print(\"Random Forest Regressor\")\n",
    "random_forest_model = RandomForestRegressor(n_estimators=100, random_state=42)\n",
    "random_forest_model.fit(x_train_scaled, y_train)\n",
    "y_pred_rf = random_forest_model.predict(x_test_scaled)\n",
    "mse_rf = mean_squared_error(y_test, y_pred_rf)\n",
    "r2_rf = r2_score(y_test, y_pred_rf)\n",
    "print(\"Mean Squared Error (MSE):\", mse_rf)\n",
    "print(\"R^2 Score:\", r2_rf)\n"
   ]
  },
  {
   "cell_type": "markdown",
   "id": "2c949f5c",
   "metadata": {},
   "source": [
    "Random Forest Model significantly improved the performance compared to the Decision Tree and Linear Regression.\n",
    "Lower MSE and higher R² indicate better performance compared to a single decision tree. However, further tuning might improve results."
   ]
  },
  {
   "cell_type": "markdown",
   "id": "f359821a",
   "metadata": {},
   "source": [
    "## d.GradientBoostingRegressor"
   ]
  },
  {
   "cell_type": "markdown",
   "id": "421335aa",
   "metadata": {},
   "source": [
    "A boosting algorithm that builds sequential trees, where each tree corrects the errors of the previous one"
   ]
  },
  {
   "cell_type": "code",
   "execution_count": 57,
   "id": "0933fb68",
   "metadata": {},
   "outputs": [],
   "source": [
    "from sklearn.ensemble import RandomForestRegressor, GradientBoostingRegressor\n"
   ]
  },
  {
   "cell_type": "code",
   "execution_count": 77,
   "id": "e9443586",
   "metadata": {},
   "outputs": [
    {
     "name": "stdout",
     "output_type": "stream",
     "text": [
      "Gradient Boosting Regressor\n",
      "Mean Squared Error (MSE): 0.3875166432044995\n",
      "R^2 Score: 0.7042780920772506\n"
     ]
    }
   ],
   "source": [
    "# d. Gradient Boosting Regressor\n",
    "print(\"Gradient Boosting Regressor\")\n",
    "gb_model = GradientBoostingRegressor(n_estimators=100, random_state=42)\n",
    "gb_model.fit(x_train_scaled, y_train)\n",
    "y_pred_gb = gb_model.predict(x_test_scaled)\n",
    "\n",
    "# Compute performance metrics\n",
    "mse_gb = mean_squared_error(y_test, y_pred_gb)\n",
    "r2_gb = r2_score(y_test, y_pred_gb)\n",
    "mae_gb = mean_absolute_error(y_test, y_pred_gb)\n",
    "\n",
    "print(\"Mean Squared Error (MSE):\", mse_gb)\n",
    "print(\"R^2 Score:\", r2_gb)\n",
    "\n"
   ]
  },
  {
   "cell_type": "markdown",
   "id": "575bd71f",
   "metadata": {},
   "source": [
    "Lower MSE compared to other models indicates better predictive power. A higher R² suggests effective learning, but tuning is essential to prevent overfitting"
   ]
  },
  {
   "cell_type": "markdown",
   "id": "a723ddcb",
   "metadata": {},
   "source": [
    "## e. Support Vector Regressor (SVR)"
   ]
  },
  {
   "cell_type": "markdown",
   "id": "06730d99",
   "metadata": {},
   "source": [
    "Uses support vectors to fit a hyperplane that maximizes the margin while minimizing prediction error"
   ]
  },
  {
   "cell_type": "code",
   "execution_count": 62,
   "id": "6f72fa3a",
   "metadata": {},
   "outputs": [],
   "source": [
    "from sklearn.svm import SVR\n"
   ]
  },
  {
   "cell_type": "code",
   "execution_count": 79,
   "id": "0cd05116",
   "metadata": {},
   "outputs": [
    {
     "name": "stdout",
     "output_type": "stream",
     "text": [
      "Support Vector Regressor (SVR)\n",
      "Mean Squared Error (MSE): 0.373989248318908\n",
      "R^2 Score: 0.7146011248938837\n"
     ]
    }
   ],
   "source": [
    "# e. Support Vector Regressor (SVR)\n",
    "print(\"Support Vector Regressor (SVR)\")\n",
    "svr_model = SVR()\n",
    "svr_model.fit(x_train_scaled, y_train)\n",
    "y_pred_svr = svr_model.predict(x_test_scaled)\n",
    "\n",
    "# Compute performance metrics\n",
    "mse_svr = mean_squared_error(y_test, y_pred_svr)\n",
    "r2_svr = r2_score(y_test, y_pred_svr)\n",
    "mae_svr = mean_absolute_error(y_test, y_pred_svr)\n",
    "\n",
    "print(\"Mean Squared Error (MSE):\", mse_svr)\n",
    "print(\"R^2 Score:\", r2_svr)\n",
    "\n"
   ]
  },
  {
   "cell_type": "markdown",
   "id": "659b3873",
   "metadata": {},
   "source": [
    "SVR can be sensitive to hyperparameters. If MSE is high and R² is low, kernel tuning may be required for better performance"
   ]
  },
  {
   "cell_type": "markdown",
   "id": "e2daa9c1",
   "metadata": {},
   "source": [
    "# 3.Model Evaluation and Comparison:\n",
    "Evaluate the performance of each algorithm using the following metrics:\n",
    "Mean Squared Error (MSE)\n",
    "Mean Absolute Error (MAE)\n",
    "R-squared Score (R²)\n",
    "Compare the results of all models and identify:\n",
    "The best-performing algorithm with justification.\n",
    "The worst-performing algorithm with reasoning."
   ]
  },
  {
   "cell_type": "code",
   "execution_count": 80,
   "id": "0ca6edc8",
   "metadata": {},
   "outputs": [
    {
     "name": "stdout",
     "output_type": "stream",
     "text": [
      "\n",
      "Model Evaluation and Comparison\n",
      "Linear Regression: MSE = 0.5719, MAE = 0.5670, R² = 0.5636\n",
      "Decision Tree Regressor: MSE = 0.7629, MAE = 0.5890, R² = 0.4178\n",
      "Random Forest Regressor: MSE = 0.3749, MAE = 0.4282, R² = 0.7139\n",
      "Gradient Boosting Regressor: MSE = 0.3875, MAE = 0.4476, R² = 0.7043\n",
      "Support Vector Regressor: MSE = 0.3740, MAE = 0.4247, R² = 0.7146\n",
      "\n",
      "Best Performing Model: Support Vector Regressor - Low MSE and High R² indicate better predictive performance.\n",
      "Worst Performing Model: Decision Tree Regressor - High MSE and Low R² suggest poor model generalization.\n"
     ]
    }
   ],
   "source": [
    "from sklearn.metrics import mean_absolute_error\n",
    "\n",
    "# Compute Mean Absolute Error (MAE) for all models\n",
    "mae_lr = mean_absolute_error(y_test, y_pred)\n",
    "mae_dt = mean_absolute_error(y_test, y_pred_tree)\n",
    "mae_rf = mean_absolute_error(y_test, y_pred_rf)\n",
    "mae_gb = mean_absolute_error(y_test, y_pred_gb)\n",
    "mae_svr = mean_absolute_error(y_test, y_pred_svr)\n",
    "\n",
    "# Store results in a dictionary for comparison\n",
    "model_results = {\n",
    "    \"Linear Regression\": {\"MSE\": mse_lr, \"MAE\": mae_lr, \"R2\": r2_lr},\n",
    "    \"Decision Tree Regressor\": {\"MSE\": mse_dt, \"MAE\": mae_dt, \"R2\": r2_dt},\n",
    "    \"Random Forest Regressor\": {\"MSE\": mse_rf, \"MAE\": mae_rf, \"R2\": r2_rf},\n",
    "    \"Gradient Boosting Regressor\": {\"MSE\": mse_gb, \"MAE\": mae_gb, \"R2\": r2_gb},\n",
    "    \"Support Vector Regressor\": {\"MSE\": mse_svr, \"MAE\": mae_svr, \"R2\": r2_svr},\n",
    "}\n",
    "\n",
    "# Identify the best and worst models based on MSE\n",
    "best_model = min(model_results, key=lambda x: model_results[x][\"MSE\"])\n",
    "worst_model = max(model_results, key=lambda x: model_results[x][\"MSE\"])\n",
    "\n",
    "# Print comparison results\n",
    "print(\"\\nModel Evaluation and Comparison\")\n",
    "for model, scores in model_results.items():\n",
    "    print(f\"{model}: MSE = {scores['MSE']:.4f}, MAE = {scores['MAE']:.4f}, R² = {scores['R2']:.4f}\")\n",
    "\n",
    "print(f\"\\nBest Performing Model: {best_model} - Low MSE and High R² indicate better predictive performance.\")\n",
    "print(f\"Worst Performing Model: {worst_model} - High MSE and Low R² suggest poor model generalization.\")\n"
   ]
  },
  {
   "cell_type": "markdown",
   "id": "7d476545",
   "metadata": {},
   "source": [
    "## Observations from Model Evaluation and Comparison\n",
    " #### * Support Vector Regressor (SVR) is the best-performing model\n",
    "\n",
    "It has the lowest MSE (0.3740) and highest R² (0.7146), indicating that it makes the most accurate predictions.\n",
    "It also has the lowest MAE (0.4247), meaning it minimizes the average absolute prediction error.\n",
    "\n",
    " #### *Random Forest Regressor performs similarly well\n",
    "\n",
    "MSE (0.3749) and R² (0.7139) are very close to SVR, suggesting strong generalization and accuracy.\n",
    "Slightly higher MAE (0.4282) compared to SVR, but still a good model choice.\n",
    "\n",
    " #### * Gradient Boosting Regressor is slightly behind\n",
    " #### * Linear Regression shows moderate performance\n",
    "\n",
    "\n",
    " #### * Decision Tree Regressor is the worst-performing model\n",
    "\n",
    "It has the highest MSE (0.7629) and lowest R² (0.4178), meaning it fails to generalize well.\n",
    "The high MAE (0.5890) indicates large individual prediction errors."
   ]
  },
  {
   "cell_type": "code",
   "execution_count": null,
   "id": "56733b83",
   "metadata": {},
   "outputs": [],
   "source": []
  }
 ],
 "metadata": {
  "kernelspec": {
   "display_name": "Python 3 (ipykernel)",
   "language": "python",
   "name": "python3"
  },
  "language_info": {
   "codemirror_mode": {
    "name": "ipython",
    "version": 3
   },
   "file_extension": ".py",
   "mimetype": "text/x-python",
   "name": "python",
   "nbconvert_exporter": "python",
   "pygments_lexer": "ipython3",
   "version": "3.9.13"
  }
 },
 "nbformat": 4,
 "nbformat_minor": 5
}
